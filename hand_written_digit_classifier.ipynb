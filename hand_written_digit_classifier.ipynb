{
  "nbformat": 4,
  "nbformat_minor": 0,
  "metadata": {
    "colab": {
      "name": "hand_written_digit_classifier.ipynb",
      "provenance": [],
      "collapsed_sections": []
    },
    "kernelspec": {
      "name": "python3",
      "display_name": "Python 3"
    },
    "language_info": {
      "name": "python"
    },
    "accelerator": "GPU",
    "gpuClass": "standard"
  },
  "cells": [
    {
      "cell_type": "markdown",
      "source": [
        "In this we build a classfier using deep learning techniques from scratch. In this we have used crossentropy lose to prevent learning slowdown and also used a better weight initialization technique to avoid learning slowdown."
      ],
      "metadata": {
        "id": "L2jAI_qo5z2k"
      }
    },
    {
      "cell_type": "code",
      "source": [
        "from google.colab import drive\n",
        "drive.mount('/drive',force_remount=True)"
      ],
      "metadata": {
        "colab": {
          "base_uri": "https://localhost:8080/"
        },
        "id": "VEvIssQfVhaU",
        "outputId": "045492b0-b8f9-4a4c-bfc3-9508c5b35c3e"
      },
      "execution_count": 1,
      "outputs": [
        {
          "output_type": "stream",
          "name": "stdout",
          "text": [
            "Mounted at /drive\n"
          ]
        }
      ]
    },
    {
      "cell_type": "code",
      "execution_count": 2,
      "metadata": {
        "id": "8J1oAX4D4bAY"
      },
      "outputs": [],
      "source": [
        "import json\n",
        "import random\n",
        "import numpy as np\n",
        "import sys"
      ]
    },
    {
      "cell_type": "code",
      "source": [
        "def sigmoid(z):\n",
        "  return 1/(1+np.exp(-z))\n",
        "def sigmoid_prime(z):\n",
        "  return sigmoid(z)*(1-sigmoid(z))\n",
        "def vectorized_result(j):\n",
        "  e = np.zeros((10, 1))\n",
        "  e[j] = 1.0\n",
        "  return e"
      ],
      "metadata": {
        "id": "bXWCrmva68Ut"
      },
      "execution_count": 3,
      "outputs": []
    },
    {
      "cell_type": "code",
      "source": [
        "class QuadraticCost(object):\n",
        "  def fn(a,y):\n",
        "    return (0.5)*(a-y)**(2)\n",
        "  def delta(z,a,y):\n",
        "    return (a-y)*sigmoid_prime(z)\n",
        "class CrossEntropyCost(object):\n",
        "  def fn(a,y):\n",
        "    return np.sum(np.nan_to_num(-y*np.log(a)-(1-y)*np.log(1-a)))\n",
        "  def delta(z,a,y):\n",
        "    return a-y"
      ],
      "metadata": {
        "id": "juN5S3yN5woU"
      },
      "execution_count": 4,
      "outputs": []
    },
    {
      "cell_type": "code",
      "source": [
        "class Network2(object):\n",
        "  def __init__(self, sizes,cost=CrossEntropyCost):\n",
        "    self.num_layers=len(sizes)\n",
        "    self.sizes=sizes\n",
        "    self.cost=cost\n",
        "    self.default_weight_initilizer()\n",
        "\n",
        "  def default_weight_initilizer(self):\n",
        "    self.biases=[np.random.randn(y,1) for y in self.sizes[1:]]\n",
        "    self.weights=[np.random.randn(y,x)/np.sqrt(x) for x,y in zip(self.sizes[:-1], self.sizes[1:])]\n",
        "\n",
        "  def large_weight_initilizer(self):\n",
        "    self.biases=[np.random.randn(y,1) for y in self.sizes[1:]]\n",
        "    self.weights=[np.random.randn(y,x) for x,y in zip(self.sizes[:-1], self.sizes[1:])]\n",
        "  \n",
        "  def feedforward(self,a):\n",
        "    for w,b in zip(self.weights, self.biases):\n",
        "      a=sigmoid(np.dot(w,a)+b)\n",
        "    return a\n",
        "  \n",
        "  def SGD(self,training_data,epochs,mini_batch_size,eta,lamda=0.0,evaluation_data=None,monitor_evaluation_cost=False,monitor_evaluation_accuracy=False\n",
        "          ,monitor_training_cost=False,monitor_training_accuracy=False):\n",
        "    if evaluation_data:\n",
        "      n_data=len(evaluation_data)\n",
        "    n=len(training_data)\n",
        "    evaluation_cost=[]\n",
        "    training_cost=[]\n",
        "    evaluation_accuracy=[]\n",
        "    training_accuracy=[]\n",
        "    for j in range(epochs):\n",
        "      random.shuffle(training_data)\n",
        "      mini_batches=[training_data[k:k+mini_batch_size] for k in  range(0,n,mini_batch_size)]\n",
        "      for mini_batch in mini_batches:\n",
        "        self.update_mini_batch(mini_batch,eta,lamda,n)\n",
        "      print(f\"\\nEpoch {j} training complete.\")\n",
        "      if monitor_training_cost:\n",
        "        cost=self.total_cost(training_data,lamda)\n",
        "        training_cost.append(cost)\n",
        "        print(f\"cost on training data: {cost}\")\n",
        "\n",
        "      if monitor_training_accuracy:\n",
        "        accuracy=self.accuracy(training_data,convert=True)\n",
        "        training_accuracy.append(accuracy)\n",
        "\n",
        "        print(f\"Accuracy on training data: {accuracy}/{n}\")\n",
        "      if monitor_evaluation_cost:\n",
        "        cost=self.total_cost(evaluation_data,lamda,convert=True)\n",
        "        evaluation_cost.append(cost)\n",
        "        print(f\"cost on evaluation data: {cost}\")\n",
        "\n",
        "      if monitor_evaluation_accuracy:\n",
        "        accuracy=self.accuracy(evaluation_data)\n",
        "        evaluation_accuracy.append(accuracy)\n",
        "        print(f\"Accuracy on evaluation data: {accuracy}/{n_data}\")\n",
        "    return evaluation_cost,evaluation_accuracy,training_cost,training_accuracy\n",
        "\n",
        "  def update_mini_batch(self,mini_batch,eta,lamda,n):\n",
        "      nabla_b = [np.zeros(b.shape) for b in self.biases]\n",
        "      nabla_w = [np.zeros(w.shape) for w in self.weights]\n",
        "      for x, y in mini_batch:\n",
        "          delta_nabla_b, delta_nabla_w = self.backprop(x, y)\n",
        "          nabla_b = [nb+dnb for nb, dnb in zip(nabla_b, delta_nabla_b)]\n",
        "          nabla_w = [nw+dnw for nw, dnw in zip(nabla_w, delta_nabla_w)]\n",
        "      self.weights = [(1-eta*(lamda/n))*w-(eta/len(mini_batch))*nw for w, nw in zip(self.weights, nabla_w)]\n",
        "      self.biases = [b-(eta/len(mini_batch))*nb for b, nb in zip(self.biases, nabla_b)]\n",
        "\n",
        "  def backprop(self,x,y):\n",
        "    nabla_b=[np.zeros(b.shape) for b in self.biases]\n",
        "    nabla_w=[np.zeros(w.shape) for w in self.weights]\n",
        "    activation=x\n",
        "    activations=[x]\n",
        "    zs=[]\n",
        "    for b, w in zip(self.biases, self.weights):\n",
        "      z=np.dot(w,activation)+b\n",
        "      zs.append(z)\n",
        "      activation=sigmoid(z)\n",
        "      activations.append(activation)\n",
        "    delta=self.cost.delta(zs[-1],activations[-1],y)\n",
        "    nabla_b[-1]=delta\n",
        "    nabla_w[-1]=np.dot(delta,activations[-2].transpose())\n",
        "    for l in range(2,self.num_layers):\n",
        "      z=zs[-l]\n",
        "      sp=sigmoid_prime(z)\n",
        "      delta=np.dot(self.weights[-l+1].transpose(),delta)*sp\n",
        "      nabla_b[-l]=delta\n",
        "      nabla_w[-l]=np.dot(delta,activations[-l-1].transpose())\n",
        "    return (nabla_b,nabla_w)\n",
        "\n",
        "  def accuracy(self,data,convert=False):\n",
        "    if convert:\n",
        "      results=[(np.argmax(self.feedforward(x)),np.argmax(y)) for x, y in data]\n",
        "    else:\n",
        "      results=[(np.argmax(self.feedforward(x)),y) for x,y in data]\n",
        "    return sum((x==y) for x,y in results)\n",
        "  \n",
        "  def total_cost(self, data, lmbda, convert=False):\n",
        "    cost = 0.0\n",
        "    for x, y in data:\n",
        "      a = self.feedforward(x)\n",
        "      if convert: y = vectorized_result(y)\n",
        "      cost += self.cost.fn(a, y)/len(data)\n",
        "    cost += 0.5*(lmbda/len(data))*sum(\n",
        "    np.linalg.norm(w)**2 for w in self.weights)\n",
        "    return cost\n",
        "\n",
        "\n",
        "            \n",
        " "
      ],
      "metadata": {
        "id": "CARTGLjk7wsg"
      },
      "execution_count": 5,
      "outputs": []
    },
    {
      "cell_type": "code",
      "source": [
        "import pickle\n",
        "import gzip\n",
        "def load_data():\n",
        "    f = gzip.open(r'/drive/My Drive/MNIST data/mnist.pkl.gz', 'rb')\n",
        "    training_data, validation_data, test_data = pickle.load(f, encoding=\"latin1\")\n",
        "    #file_content=f.read()\n",
        "    #print(file_content)\n",
        "    f.close()\n",
        "    return (training_data, validation_data, test_data)"
      ],
      "metadata": {
        "id": "oyCzYzsKIpL7"
      },
      "execution_count": 6,
      "outputs": []
    },
    {
      "cell_type": "code",
      "source": [
        "def load_data_wrapper():\n",
        "    tr_d, va_d, te_d = load_data()\n",
        "    training_inputs = [np.reshape(x, (784, 1)) for x in tr_d[0]]\n",
        "    training_results = [vectorized_result(y) for y in tr_d[1]]\n",
        "    training_data = zip(training_inputs, training_results)\n",
        "    validation_inputs = [np.reshape(x, (784, 1)) for x in va_d[0]]\n",
        "    validation_data = zip(validation_inputs, va_d[1])\n",
        "    test_inputs = [np.reshape(x, (784, 1)) for x in te_d[0]]\n",
        "    test_data = zip(test_inputs, te_d[1])\n",
        "    return (training_data, validation_data, test_data)"
      ],
      "metadata": {
        "id": "tTGwIxR_Ixje"
      },
      "execution_count": 7,
      "outputs": []
    },
    {
      "cell_type": "code",
      "source": [
        "training_data,validation_data,test_data=load_data_wrapper()"
      ],
      "metadata": {
        "id": "H3bnDR6w0WG9"
      },
      "execution_count": 8,
      "outputs": []
    },
    {
      "cell_type": "code",
      "source": [
        "training_data,validation_data,test_data=list(training_data),list(validation_data),list(test_data)"
      ],
      "metadata": {
        "id": "SLWsLFRf0BZO"
      },
      "execution_count": 9,
      "outputs": []
    },
    {
      "cell_type": "markdown",
      "source": [
        "#**With Sigmoid+Cross Entropy loss**"
      ],
      "metadata": {
        "id": "wk94eXKZw6Yq"
      }
    },
    {
      "cell_type": "code",
      "source": [
        "cost1=CrossEntropyCost"
      ],
      "metadata": {
        "id": "YP7rXWsiJ57S"
      },
      "execution_count": 10,
      "outputs": []
    },
    {
      "cell_type": "code",
      "source": [
        "net=Network2([784,30,10],cost=cost1)"
      ],
      "metadata": {
        "id": "O4gpYXkqI4kV"
      },
      "execution_count": 11,
      "outputs": []
    },
    {
      "cell_type": "code",
      "source": [
        "evaluation_cost,evaluation_accuracy,training_cost,training_accuracy=net.SGD(training_data,30,10,0.5,lamda=5.0,evaluation_data=validation_data,monitor_training_accuracy=True,monitor_evaluation_accuracy=True,monitor_training_cost=True,monitor_evaluation_cost=True)"
      ],
      "metadata": {
        "colab": {
          "base_uri": "https://localhost:8080/"
        },
        "id": "ZJQbZFP9J-RS",
        "outputId": "583db289-a708-48e1-8a77-a02fdb342ad2"
      },
      "execution_count": 12,
      "outputs": [
        {
          "output_type": "stream",
          "name": "stdout",
          "text": [
            "\n",
            "Epoch 0 training complete.\n",
            "cost on training data: 0.47218679926115925\n",
            "Accuracy on training data: 47080/50000\n",
            "cost on evaluation data: 0.7740852912678413\n",
            "Accuracy on evaluation data: 9428/10000\n",
            "\n",
            "Epoch 1 training complete.\n",
            "cost on training data: 0.42953866192661894\n",
            "Accuracy on training data: 47777/50000\n",
            "cost on evaluation data: 0.8376727947636351\n",
            "Accuracy on evaluation data: 9556/10000\n",
            "\n",
            "Epoch 2 training complete.\n",
            "cost on training data: 0.42381981034846794\n",
            "Accuracy on training data: 47755/50000\n",
            "cost on evaluation data: 0.8861368907946032\n",
            "Accuracy on evaluation data: 9527/10000\n",
            "\n",
            "Epoch 3 training complete.\n",
            "cost on training data: 0.42320117235211724\n",
            "Accuracy on training data: 47853/50000\n",
            "cost on evaluation data: 0.9086183877068696\n",
            "Accuracy on evaluation data: 9548/10000\n",
            "\n",
            "Epoch 4 training complete.\n",
            "cost on training data: 0.3968500517374658\n",
            "Accuracy on training data: 48044/50000\n",
            "cost on evaluation data: 0.9054568487025751\n",
            "Accuracy on evaluation data: 9565/10000\n",
            "\n",
            "Epoch 5 training complete.\n",
            "cost on training data: 0.41317694352511847\n",
            "Accuracy on training data: 47927/50000\n",
            "cost on evaluation data: 0.9354413483383419\n",
            "Accuracy on evaluation data: 9536/10000\n",
            "\n",
            "Epoch 6 training complete.\n",
            "cost on training data: 0.3749616993576764\n",
            "Accuracy on training data: 48357/50000\n",
            "cost on evaluation data: 0.9060090108351522\n",
            "Accuracy on evaluation data: 9626/10000\n",
            "\n",
            "Epoch 7 training complete.\n",
            "cost on training data: 0.3764399658376093\n",
            "Accuracy on training data: 48305/50000\n",
            "cost on evaluation data: 0.9091779151018966\n",
            "Accuracy on evaluation data: 9626/10000\n",
            "\n",
            "Epoch 8 training complete.\n",
            "cost on training data: 0.38974678591481227\n",
            "Accuracy on training data: 48204/50000\n",
            "cost on evaluation data: 0.9258099632797888\n",
            "Accuracy on evaluation data: 9611/10000\n",
            "\n",
            "Epoch 9 training complete.\n",
            "cost on training data: 0.3762695299300347\n",
            "Accuracy on training data: 48369/50000\n",
            "cost on evaluation data: 0.9202808954436763\n",
            "Accuracy on evaluation data: 9626/10000\n",
            "\n",
            "Epoch 10 training complete.\n",
            "cost on training data: 0.3872717558803067\n",
            "Accuracy on training data: 48382/50000\n",
            "cost on evaluation data: 0.9391232212664802\n",
            "Accuracy on evaluation data: 9611/10000\n",
            "\n",
            "Epoch 11 training complete.\n",
            "cost on training data: 0.4045737924855872\n",
            "Accuracy on training data: 48097/50000\n",
            "cost on evaluation data: 0.959085784628125\n",
            "Accuracy on evaluation data: 9561/10000\n",
            "\n",
            "Epoch 12 training complete.\n",
            "cost on training data: 0.38655653643418636\n",
            "Accuracy on training data: 48338/50000\n",
            "cost on evaluation data: 0.9387776337447471\n",
            "Accuracy on evaluation data: 9619/10000\n",
            "\n",
            "Epoch 13 training complete.\n",
            "cost on training data: 0.37099043510429297\n",
            "Accuracy on training data: 48407/50000\n",
            "cost on evaluation data: 0.930482875013431\n",
            "Accuracy on evaluation data: 9636/10000\n",
            "\n",
            "Epoch 14 training complete.\n",
            "cost on training data: 0.3615449011757211\n",
            "Accuracy on training data: 48449/50000\n",
            "cost on evaluation data: 0.9196186132075541\n",
            "Accuracy on evaluation data: 9635/10000\n",
            "\n",
            "Epoch 15 training complete.\n",
            "cost on training data: 0.369373028055659\n",
            "Accuracy on training data: 48377/50000\n",
            "cost on evaluation data: 0.9267311997711409\n",
            "Accuracy on evaluation data: 9596/10000\n",
            "\n",
            "Epoch 16 training complete.\n",
            "cost on training data: 0.37011887974888735\n",
            "Accuracy on training data: 48438/50000\n",
            "cost on evaluation data: 0.9302860100146813\n",
            "Accuracy on evaluation data: 9631/10000\n",
            "\n",
            "Epoch 17 training complete.\n",
            "cost on training data: 0.3661842974503293\n",
            "Accuracy on training data: 48451/50000\n",
            "cost on evaluation data: 0.9267535428072426\n",
            "Accuracy on evaluation data: 9625/10000\n",
            "\n",
            "Epoch 18 training complete.\n",
            "cost on training data: 0.36524999941228803\n",
            "Accuracy on training data: 48492/50000\n",
            "cost on evaluation data: 0.9356513357841862\n",
            "Accuracy on evaluation data: 9620/10000\n",
            "\n",
            "Epoch 19 training complete.\n",
            "cost on training data: 0.3625169828464427\n",
            "Accuracy on training data: 48514/50000\n",
            "cost on evaluation data: 0.929363253085078\n",
            "Accuracy on evaluation data: 9618/10000\n",
            "\n",
            "Epoch 20 training complete.\n",
            "cost on training data: 0.38601242753528575\n",
            "Accuracy on training data: 48334/50000\n",
            "cost on evaluation data: 0.9471820482892905\n",
            "Accuracy on evaluation data: 9601/10000\n",
            "\n",
            "Epoch 21 training complete.\n",
            "cost on training data: 0.3900796172795641\n",
            "Accuracy on training data: 48373/50000\n",
            "cost on evaluation data: 0.9549179866956369\n",
            "Accuracy on evaluation data: 9596/10000\n",
            "\n",
            "Epoch 22 training complete.\n",
            "cost on training data: 0.36418605953907746\n",
            "Accuracy on training data: 48464/50000\n",
            "cost on evaluation data: 0.9377293275903068\n",
            "Accuracy on evaluation data: 9627/10000\n",
            "\n",
            "Epoch 23 training complete.\n",
            "cost on training data: 0.3975193923025297\n",
            "Accuracy on training data: 48292/50000\n",
            "cost on evaluation data: 0.9664240027608075\n",
            "Accuracy on evaluation data: 9578/10000\n",
            "\n",
            "Epoch 24 training complete.\n",
            "cost on training data: 0.38707267391219635\n",
            "Accuracy on training data: 48337/50000\n",
            "cost on evaluation data: 0.9600043204246052\n",
            "Accuracy on evaluation data: 9594/10000\n",
            "\n",
            "Epoch 25 training complete.\n",
            "cost on training data: 0.3587909779081665\n",
            "Accuracy on training data: 48543/50000\n",
            "cost on evaluation data: 0.9340657491303791\n",
            "Accuracy on evaluation data: 9634/10000\n",
            "\n",
            "Epoch 26 training complete.\n",
            "cost on training data: 0.37910289050718904\n",
            "Accuracy on training data: 48273/50000\n",
            "cost on evaluation data: 0.9555420436505713\n",
            "Accuracy on evaluation data: 9583/10000\n",
            "\n",
            "Epoch 27 training complete.\n",
            "cost on training data: 0.37594541839501844\n",
            "Accuracy on training data: 48400/50000\n",
            "cost on evaluation data: 0.9390297375528562\n",
            "Accuracy on evaluation data: 9621/10000\n",
            "\n",
            "Epoch 28 training complete.\n",
            "cost on training data: 0.37332472813233863\n",
            "Accuracy on training data: 48406/50000\n",
            "cost on evaluation data: 0.9464881175003865\n",
            "Accuracy on evaluation data: 9610/10000\n",
            "\n",
            "Epoch 29 training complete.\n",
            "cost on training data: 0.36220812440712624\n",
            "Accuracy on training data: 48494/50000\n",
            "cost on evaluation data: 0.930492721080437\n",
            "Accuracy on evaluation data: 9631/10000\n"
          ]
        }
      ]
    },
    {
      "cell_type": "code",
      "source": [
        "import matplotlib.pyplot as plt\n"
      ],
      "metadata": {
        "id": "dX6g5A1pKJrz"
      },
      "execution_count": 13,
      "outputs": []
    },
    {
      "cell_type": "code",
      "source": [
        "plt.grid()\n",
        "plt.plot([a/50000 for a in training_accuracy])\n",
        "plt.plot([e/10000 for e in evaluation_accuracy])\n",
        "plt.xlabel(\"Epochs\")\n",
        "plt.ylabel('accuracy')\n",
        "plt.legend(['training_accuracy','validation_accuracy']);"
      ],
      "metadata": {
        "colab": {
          "base_uri": "https://localhost:8080/",
          "height": 279
        },
        "id": "hMmRhD4DPHI0",
        "outputId": "0fdde977-440b-4b0c-d87c-9d0093a4348d"
      },
      "execution_count": 14,
      "outputs": [
        {
          "output_type": "display_data",
          "data": {
            "text/plain": [
              "<Figure size 432x288 with 1 Axes>"
            ],
            "image/png": "[encoded data removed]"
          },
          "metadata": {
            "needs_background": "light"
          }
        }
      ]
    },
    {
      "cell_type": "code",
      "source": [
        "plt.grid()\n",
        "plt.plot(training_cost)\n",
        "plt.plot(evaluation_cost)\n",
        "plt.xlabel(\"Epochs\")\n",
        "plt.ylabel('Cost')\n",
        "plt.legend(['training_cost','evaluation_cost'])"
      ],
      "metadata": {
        "colab": {
          "base_uri": "https://localhost:8080/",
          "height": 296
        },
        "id": "ydYkTLkGPN5u",
        "outputId": "04db71d1-a738-4b61-ff6c-29c00bbda92e"
      },
      "execution_count": 15,
      "outputs": [
        {
          "output_type": "execute_result",
          "data": {
            "text/plain": [
              "<matplotlib.legend.Legend at 0x7efde5021910>"
            ]
          },
          "metadata": {},
          "execution_count": 15
        },
        {
          "output_type": "display_data",
          "data": {
            "text/plain": [
              "<Figure size 432x288 with 1 Axes>"
            ],
            "image/png": "[encoded data removed]"
          },
          "metadata": {
            "needs_background": "light"
          }
        }
      ]
    },
    {
      "cell_type": "code",
      "source": [
        "print(f\"training_accuracy :{(training_accuracy[-1]/50000)*100} %\\nvalidation_accuracy: {(evaluation_accuracy[-1]/10000)*100} %\\nTest accuracy: {(net.accuracy(test_data)/10000)*100} %\")"
      ],
      "metadata": {
        "id": "ZhUWswBgWUUW",
        "colab": {
          "base_uri": "https://localhost:8080/"
        },
        "outputId": "3d7265b2-3611-4ebf-f066-e182ee6e961b"
      },
      "execution_count": 21,
      "outputs": [
        {
          "output_type": "stream",
          "name": "stdout",
          "text": [
            "training_accuracy :96.988%\n",
            "validation_accuracy: 96.31%\n",
            "Test accuracy: 96.16%\n"
          ]
        }
      ]
    },
    {
      "cell_type": "code",
      "source": [
        ""
      ],
      "metadata": {
        "id": "Gp7U08ZXF67t"
      },
      "execution_count": null,
      "outputs": []
    }
  ]
}